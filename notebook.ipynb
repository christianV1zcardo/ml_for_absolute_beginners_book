{
 "cells": [
  {
   "cell_type": "code",
   "execution_count": 223,
   "id": "ae67558c",
   "metadata": {},
   "outputs": [],
   "source": [
    "import pandas as pd\n",
    "from sklearn.model_selection import train_test_split\n",
    "from sklearn import ensemble\n",
    "from sklearn.metrics import mean_absolute_error"
   ]
  },
  {
   "cell_type": "code",
   "execution_count": 224,
   "id": "b3400d7b",
   "metadata": {},
   "outputs": [
    {
     "data": {
      "text/plain": [
       "Index(['Suburb', 'Rooms', 'Type', 'Price', 'SellerG', 'Distance', 'Bedroom2',\n",
       "       'Bathroom', 'Car', 'Landsize', 'BuildingArea', 'YearBuilt',\n",
       "       'CouncilArea'],\n",
       "      dtype='object')"
      ]
     },
     "execution_count": 224,
     "metadata": {},
     "output_type": "execute_result"
    }
   ],
   "source": [
    "df = pd.read_csv('Melbourne_housing_FULL.csv')\n",
    "\n",
    "del df['Address']\n",
    "del df['Method']\n",
    "del df['Date']\n",
    "del df['Postcode']\n",
    "del df['Lattitude']\n",
    "del df['Longtitude']\n",
    "del df['Regionname']\n",
    "del df['Propertycount']\n",
    "\n",
    "df.columns"
   ]
  },
  {
   "cell_type": "code",
   "execution_count": 225,
   "id": "53d577cd",
   "metadata": {},
   "outputs": [
    {
     "data": {
      "text/plain": [
       "Suburb          0\n",
       "Rooms           0\n",
       "Type            0\n",
       "Price           0\n",
       "SellerG         0\n",
       "Distance        0\n",
       "Bedroom2        0\n",
       "Bathroom        0\n",
       "Car             0\n",
       "Landsize        0\n",
       "BuildingArea    0\n",
       "YearBuilt       0\n",
       "CouncilArea     0\n",
       "dtype: int64"
      ]
     },
     "execution_count": 225,
     "metadata": {},
     "output_type": "execute_result"
    }
   ],
   "source": [
    "df.isnull().sum()\n",
    "df.dropna(inplace=True)\n",
    "df.isnull().sum()"
   ]
  },
  {
   "cell_type": "code",
   "execution_count": 226,
   "id": "b400ceaf",
   "metadata": {},
   "outputs": [],
   "source": [
    "df = pd.get_dummies(df, columns=['Suburb', 'CouncilArea', 'Type', 'SellerG'])\n",
    "\n",
    "X = df.drop('Price', axis=1)\n",
    "y = df['Price']\n",
    "\n",
    "X_train, X_test, y_train, y_test = train_test_split(X, y, test_size=0.3, \n",
    "                                                    shuffle=True)"
   ]
  },
  {
   "cell_type": "code",
   "execution_count": 230,
   "id": "b517ebec",
   "metadata": {},
   "outputs": [
    {
     "data": {
      "text/plain": [
       "array([dtype('int64'), dtype('float64'), dtype('bool')], dtype=object)"
      ]
     },
     "execution_count": 230,
     "metadata": {},
     "output_type": "execute_result"
    }
   ],
   "source": [
    "df.dtypes.unique()"
   ]
  },
  {
   "cell_type": "code",
   "execution_count": 228,
   "id": "8b4ffd74",
   "metadata": {},
   "outputs": [],
   "source": [
    "model = ensemble.GradientBoostingRegressor(\n",
    "    n_estimators= 250,\n",
    "    learning_rate= 0.1,\n",
    "    max_depth= 5,\n",
    "    min_samples_split= 4,\n",
    "    min_samples_leaf= 6,\n",
    "    max_features= 0.6,\n",
    "    loss= 'huber'\n",
    ")"
   ]
  },
  {
   "cell_type": "code",
   "execution_count": 229,
   "id": "badfd041",
   "metadata": {},
   "outputs": [
    {
     "name": "stdout",
     "output_type": "stream",
     "text": [
      "Training Set Mean Absolute Error: 121962.21\n",
      "Test Set Mean Absolute Error: 159815.64\n",
      "37853.43027992282\n"
     ]
    }
   ],
   "source": [
    "model.fit(X_train, y_train)\n",
    "\n",
    "mae_train = mean_absolute_error(y_train, model.predict(X_train))\n",
    "print(\"Training Set Mean Absolute Error: %.2f\" %mae_train)\n",
    "\n",
    "mae_test = mean_absolute_error(y_test, model.predict(X_test))\n",
    "print (\"Test Set Mean Absolute Error: %.2f\" % mae_test)\n",
    "\n",
    "print(mae_test-mae_train)"
   ]
  }
 ],
 "metadata": {
  "kernelspec": {
   "display_name": "venv",
   "language": "python",
   "name": "python3"
  },
  "language_info": {
   "codemirror_mode": {
    "name": "ipython",
    "version": 3
   },
   "file_extension": ".py",
   "mimetype": "text/x-python",
   "name": "python",
   "nbconvert_exporter": "python",
   "pygments_lexer": "ipython3",
   "version": "3.13.3"
  }
 },
 "nbformat": 4,
 "nbformat_minor": 5
}
